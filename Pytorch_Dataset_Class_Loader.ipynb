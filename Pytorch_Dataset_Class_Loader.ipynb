{
 "cells": [
  {
   "cell_type": "code",
   "execution_count": 1,
   "id": "7b15881b",
   "metadata": {},
   "outputs": [],
   "source": [
    "from sklearn.datasets import make_classification\n",
    "import torch"
   ]
  },
  {
   "cell_type": "code",
   "execution_count": 2,
   "id": "05114d6d",
   "metadata": {},
   "outputs": [],
   "source": [
    "# create a synthetic classification dataset using sklearn\n",
    "\n",
    "X,y= make_classification(\n",
    "    n_samples=10,     #no. of samples\n",
    "    n_features=2,     #no. of features\n",
    "    n_redundant=0,    #no. of redundant features\n",
    "    n_classes=2,      #no. of classes\n",
    "    random_state=2,\n",
    "    n_informative=2  # no. of informative features\n",
    ")"
   ]
  },
  {
   "cell_type": "code",
   "execution_count": 3,
   "id": "c1431172",
   "metadata": {},
   "outputs": [
    {
     "data": {
      "text/plain": [
       "array([[ 1.19233761,  1.68984837],\n",
       "       [ 2.10468347,  0.08822   ],\n",
       "       [ 1.04115518, -1.91602762],\n",
       "       [ 0.28432141, -0.11450983],\n",
       "       [-0.67458929, -0.89813178],\n",
       "       [ 0.97869965, -0.57896825],\n",
       "       [-1.30136943,  0.79786149],\n",
       "       [ 1.17062352,  0.99746752],\n",
       "       [-0.12196157, -2.58441629],\n",
       "       [-0.98692549,  0.68339532]])"
      ]
     },
     "execution_count": 3,
     "metadata": {},
     "output_type": "execute_result"
    }
   ],
   "source": [
    "X"
   ]
  },
  {
   "cell_type": "code",
   "execution_count": 4,
   "id": "5c9a9c98",
   "metadata": {},
   "outputs": [
    {
     "data": {
      "text/plain": [
       "array([1, 1, 0, 0, 0, 1, 0, 1, 1, 0])"
      ]
     },
     "execution_count": 4,
     "metadata": {},
     "output_type": "execute_result"
    }
   ],
   "source": [
    "y"
   ]
  },
  {
   "cell_type": "code",
   "execution_count": 5,
   "id": "46cabb1d",
   "metadata": {},
   "outputs": [
    {
     "data": {
      "text/plain": [
       "(10, 2)"
      ]
     },
     "execution_count": 5,
     "metadata": {},
     "output_type": "execute_result"
    }
   ],
   "source": [
    "X.shape"
   ]
  },
  {
   "cell_type": "code",
   "execution_count": 6,
   "id": "63918931",
   "metadata": {},
   "outputs": [
    {
     "data": {
      "text/plain": [
       "(10,)"
      ]
     },
     "execution_count": 6,
     "metadata": {},
     "output_type": "execute_result"
    }
   ],
   "source": [
    "y.shape"
   ]
  },
  {
   "cell_type": "code",
   "execution_count": 8,
   "id": "c349c404",
   "metadata": {
    "scrolled": true
   },
   "outputs": [
    {
     "name": "stderr",
     "output_type": "stream",
     "text": [
      "C:\\Users\\HP\\AppData\\Local\\Temp\\ipykernel_33708\\2836881727.py:1: UserWarning: To copy construct from a tensor, it is recommended to use sourceTensor.clone().detach() or sourceTensor.clone().detach().requires_grad_(True), rather than torch.tensor(sourceTensor).\n",
      "  X=torch.tensor(X, dtype=torch.float32)\n",
      "C:\\Users\\HP\\AppData\\Local\\Temp\\ipykernel_33708\\2836881727.py:2: UserWarning: To copy construct from a tensor, it is recommended to use sourceTensor.clone().detach() or sourceTensor.clone().detach().requires_grad_(True), rather than torch.tensor(sourceTensor).\n",
      "  y=torch.tensor(y, dtype=torch.long)\n"
     ]
    }
   ],
   "source": [
    "X=torch.tensor(X, dtype=torch.float32)\n",
    "y=torch.tensor(y, dtype=torch.long)"
   ]
  },
  {
   "cell_type": "code",
   "execution_count": 10,
   "id": "aea33ed8",
   "metadata": {},
   "outputs": [
    {
     "data": {
      "text/plain": [
       "tensor([[ 1.1923,  1.6898],\n",
       "        [ 2.1047,  0.0882],\n",
       "        [ 1.0412, -1.9160],\n",
       "        [ 0.2843, -0.1145],\n",
       "        [-0.6746, -0.8981],\n",
       "        [ 0.9787, -0.5790],\n",
       "        [-1.3014,  0.7979],\n",
       "        [ 1.1706,  0.9975],\n",
       "        [-0.1220, -2.5844],\n",
       "        [-0.9869,  0.6834]])"
      ]
     },
     "execution_count": 10,
     "metadata": {},
     "output_type": "execute_result"
    }
   ],
   "source": [
    "X"
   ]
  },
  {
   "cell_type": "code",
   "execution_count": 11,
   "id": "044cdbe5",
   "metadata": {},
   "outputs": [
    {
     "data": {
      "text/plain": [
       "tensor([1, 1, 0, 0, 0, 1, 0, 1, 1, 0])"
      ]
     },
     "execution_count": 11,
     "metadata": {},
     "output_type": "execute_result"
    }
   ],
   "source": [
    "y"
   ]
  },
  {
   "cell_type": "code",
   "execution_count": 12,
   "id": "09c8d088",
   "metadata": {},
   "outputs": [],
   "source": [
    "from torch.utils.data import Dataset, DataLoader"
   ]
  },
  {
   "cell_type": "code",
   "execution_count": 17,
   "id": "870e3938",
   "metadata": {},
   "outputs": [],
   "source": [
    "class CustomDataset(Dataset):\n",
    "    def __init__(self, features, labels):\n",
    "        self.features= features\n",
    "        self.labels=labels\n",
    "        \n",
    "    def __len__ (self):\n",
    "        return self.features.shape[0]\n",
    "    \n",
    "    def __getitem__(self, index):\n",
    "        return self.features[index], self.labels[index]"
   ]
  },
  {
   "cell_type": "code",
   "execution_count": 18,
   "id": "9393a881",
   "metadata": {},
   "outputs": [],
   "source": [
    "dataset=CustomDataset(X,y)"
   ]
  },
  {
   "cell_type": "code",
   "execution_count": 19,
   "id": "9bcd0245",
   "metadata": {},
   "outputs": [
    {
     "data": {
      "text/plain": [
       "10"
      ]
     },
     "execution_count": 19,
     "metadata": {},
     "output_type": "execute_result"
    }
   ],
   "source": [
    "len(dataset)"
   ]
  },
  {
   "cell_type": "code",
   "execution_count": 20,
   "id": "5e376cfb",
   "metadata": {},
   "outputs": [
    {
     "data": {
      "text/plain": [
       "(tensor([ 1.0412, -1.9160]), tensor(0))"
      ]
     },
     "execution_count": 20,
     "metadata": {},
     "output_type": "execute_result"
    }
   ],
   "source": [
    "dataset[2]"
   ]
  },
  {
   "cell_type": "code",
   "execution_count": 22,
   "id": "4ac23b4f",
   "metadata": {},
   "outputs": [],
   "source": [
    "dataloader=DataLoader(dataset, batch_size=2, shuffle=True )"
   ]
  },
  {
   "cell_type": "code",
   "execution_count": 25,
   "id": "cc7897ec",
   "metadata": {},
   "outputs": [
    {
     "name": "stdout",
     "output_type": "stream",
     "text": [
      "tensor([[-0.1220, -2.5844],\n",
      "        [-0.9869,  0.6834]])\n",
      "tensor([1, 0])\n",
      "--------------------------------------------------\n",
      "tensor([[ 1.1923,  1.6898],\n",
      "        [-0.6746, -0.8981]])\n",
      "tensor([1, 0])\n",
      "--------------------------------------------------\n",
      "tensor([[2.1047, 0.0882],\n",
      "        [1.1706, 0.9975]])\n",
      "tensor([1, 1])\n",
      "--------------------------------------------------\n",
      "tensor([[-1.3014,  0.7979],\n",
      "        [ 0.9787, -0.5790]])\n",
      "tensor([0, 1])\n",
      "--------------------------------------------------\n",
      "tensor([[ 0.2843, -0.1145],\n",
      "        [ 1.0412, -1.9160]])\n",
      "tensor([0, 0])\n",
      "--------------------------------------------------\n"
     ]
    }
   ],
   "source": [
    "for batch_features, batch_labels in dataloader:\n",
    "    print(batch_features)\n",
    "    print(batch_labels)\n",
    "    print(\"-\"*50)"
   ]
  },
  {
   "cell_type": "code",
   "execution_count": null,
   "id": "c12def9d",
   "metadata": {},
   "outputs": [],
   "source": []
  },
  {
   "cell_type": "code",
   "execution_count": null,
   "id": "2acf8463",
   "metadata": {},
   "outputs": [],
   "source": []
  }
 ],
 "metadata": {
  "kernelspec": {
   "display_name": "Python 3 (ipykernel)",
   "language": "python",
   "name": "python3"
  },
  "language_info": {
   "codemirror_mode": {
    "name": "ipython",
    "version": 3
   },
   "file_extension": ".py",
   "mimetype": "text/x-python",
   "name": "python",
   "nbconvert_exporter": "python",
   "pygments_lexer": "ipython3",
   "version": "3.11.5"
  }
 },
 "nbformat": 4,
 "nbformat_minor": 5
}
